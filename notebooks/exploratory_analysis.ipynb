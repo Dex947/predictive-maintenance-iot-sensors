{
 "cells": [
  {
   "cell_type": "markdown",
   "metadata": {},
   "source": [
    "# Exploratory Data Analysis - Predictive Maintenance\n",
    "\n",
    "This notebook performs exploratory analysis on the NASA C-MAPSS turbofan engine dataset.\n",
    "\n",
    "## Contents:\n",
    "1. Data Loading\n",
    "2. Dataset Overview\n",
    "3. Sensor Degradation Analysis\n",
    "4. RUL Distribution\n",
    "5. Correlation Analysis\n",
    "6. Feature Engineering Preview"
   ]
  },
  {
   "cell_type": "code",
   "execution_count": null,
   "metadata": {},
   "outputs": [],
   "source": [
    "import sys\n",
    "sys.path.append('..')\n",
    "\n",
    "import numpy as np\n",
    "import pandas as pd\n",
    "import matplotlib.pyplot as plt\n",
    "import seaborn as sns\n",
    "\n",
    "from src.utils.config_loader import load_config\n",
    "from src.utils.logger import get_logger\n",
    "from src.ingestion.data_loader import get_data_loader\n",
    "from src.preprocessing import FeatureEngineer\n",
    "from src.visualization import PredictiveMaintenanceVisualizer\n",
    "\n",
    "# Set plotting style\n",
    "sns.set_style('whitegrid')\n",
    "plt.rcParams['figure.figsize'] = (14, 6)\n",
    "\n",
    "# Suppress warnings\n",
    "import warnings\n",
    "warnings.filterwarnings('ignore')\n",
    "\n",
    "print(\"Libraries imported successfully!\")"
   ]
  },
  {
   "cell_type": "markdown",
   "metadata": {},
   "source": [
    "## 1. Load Configuration and Data"
   ]
  },
  {
   "cell_type": "code",
   "execution_count": null,
   "metadata": {},
   "outputs": [],
   "source": [
    "# Load configuration\n",
    "config = load_config()\n",
    "\n",
    "print(\"Project:\", config['project']['name'])\n",
    "print(\"Random Seed:\", config['project']['seed'])"
   ]
  },
  {
   "cell_type": "code",
   "execution_count": null,
   "metadata": {},
   "outputs": [],
   "source": [
    "# Load NASA C-MAPSS dataset\n",
    "loader = get_data_loader('cmapss', config)\n",
    "\n",
    "# Load FD001 subset (single operating condition, single fault mode)\n",
    "train_df, test_df, rul_df = loader.load_dataset('FD001')\n",
    "\n",
    "print(f\"Training data shape: {train_df.shape}\")\n",
    "print(f\"Test data shape: {test_df.shape}\")\n",
    "print(f\"RUL data shape: {rul_df.shape}\")"
   ]
  },
  {
   "cell_type": "markdown",
   "metadata": {},
   "source": [
    "## 2. Dataset Overview"
   ]
  },
  {
   "cell_type": "code",
   "execution_count": null,
   "metadata": {},
   "outputs": [],
   "source": [
    "# Display first few rows\n",
    "print(\"\\nTraining Data Sample:\")\n",
    "train_df.head(10)"
   ]
  },
  {
   "cell_type": "code",
   "execution_count": null,
   "metadata": {},
   "outputs": [],
   "source": [
    "# Basic statistics\n",
    "print(\"\\nDataset Statistics:\")\n",
    "print(f\"Number of engines: {train_df['unit_id'].nunique()}\")\n",
    "print(f\"Total cycles: {len(train_df)}\")\n",
    "print(f\"Average cycles per engine: {train_df.groupby('unit_id')['cycle'].max().mean():.2f}\")\n",
    "print(f\"Min cycles: {train_df.groupby('unit_id')['cycle'].max().min()}\")\n",
    "print(f\"Max cycles: {train_df.groupby('unit_id')['cycle'].max().max()}\")"
   ]
  },
  {
   "cell_type": "code",
   "execution_count": null,
   "metadata": {},
   "outputs": [],
   "source": [
    "# Check for missing values\n",
    "print(\"\\nMissing Values:\")\n",
    "print(train_df.isnull().sum().sum())"
   ]
  },
  {
   "cell_type": "code",
   "execution_count": null,
   "metadata": {},
   "outputs": [],
   "source": [
    "# Sensor columns\n",
    "sensor_cols = [col for col in train_df.columns if col.startswith('sensor_')]\n",
    "print(f\"\\nNumber of sensors: {len(sensor_cols)}\")\n",
    "print(f\"Sensors: {sensor_cols}\")"
   ]
  },
  {
   "cell_type": "markdown",
   "metadata": {},
   "source": [
    "## 3. Add RUL Labels"
   ]
  },
  {
   "cell_type": "code",
   "execution_count": null,
   "metadata": {},
   "outputs": [],
   "source": [
    "# Add RUL to training data\n",
    "train_df = loader.add_rul_column(train_df)\n",
    "train_df = loader.add_labels(train_df, w1=30, w0=15)\n",
    "\n",
    "print(\"\\nTraining data with RUL:\")\n",
    "train_df[['unit_id', 'cycle', 'RUL', 'label_binary', 'RUL_clipped']].head(10)"
   ]
  },
  {
   "cell_type": "markdown",
   "metadata": {},
   "source": [
    "## 4. Sensor Degradation Visualization"
   ]
  },
  {
   "cell_type": "code",
   "execution_count": null,
   "metadata": {},
   "outputs": [],
   "source": [
    "# Initialize visualizer\n",
    "viz = PredictiveMaintenanceVisualizer(config, '../results')\n",
    "\n",
    "# Plot sensor degradation for first 3 units\n",
    "viz.plot_sensor_degradation(train_df, sensor_cols, unit_ids=[1, 2, 3])"
   ]
  },
  {
   "cell_type": "code",
   "execution_count": null,
   "metadata": {},
   "outputs": [],
   "source": [
    "# Plot specific sensors for one unit\n",
    "unit_1_data = train_df[train_df['unit_id'] == 1]\n",
    "\n",
    "fig, axes = plt.subplots(3, 2, figsize=(14, 10))\n",
    "axes = axes.ravel()\n",
    "\n",
    "for idx, sensor in enumerate(sensor_cols[:6]):\n",
    "    axes[idx].plot(unit_1_data['cycle'], unit_1_data[sensor])\n",
    "    axes[idx].set_xlabel('Cycle')\n",
    "    axes[idx].set_ylabel(sensor)\n",
    "    axes[idx].set_title(f'{sensor} - Unit 1')\n",
    "    axes[idx].grid(True, alpha=0.3)\n",
    "\n",
    "plt.tight_layout()\n",
    "plt.show()"
   ]
  },
  {
   "cell_type": "markdown",
   "metadata": {},
   "source": [
    "## 5. RUL Distribution Analysis"
   ]
  },
  {
   "cell_type": "code",
   "execution_count": null,
   "metadata": {},
   "outputs": [],
   "source": [
    "# Plot RUL distribution\n",
    "viz.plot_rul_distribution(train_df)"
   ]
  },
  {
   "cell_type": "code",
   "execution_count": null,
   "metadata": {},
   "outputs": [],
   "source": [
    "# RUL statistics\n",
    "print(\"\\nRUL Statistics:\")\n",
    "print(train_df['RUL'].describe())\n",
    "\n",
    "print(\"\\nLabel distribution:\")\n",
    "print(train_df['label_binary'].value_counts())\n",
    "print(f\"\\nFailure ratio: {train_df['label_binary'].mean():.2%}\")"
   ]
  },
  {
   "cell_type": "markdown",
   "metadata": {},
   "source": [
    "## 6. Correlation Analysis"
   ]
  },
  {
   "cell_type": "code",
   "execution_count": null,
   "metadata": {},
   "outputs": [],
   "source": [
    "# Correlation with RUL\n",
    "correlations = train_df[sensor_cols + ['RUL']].corr()['RUL'].drop('RUL').sort_values(ascending=False)\n",
    "\n",
    "print(\"\\nTop 10 sensors correlated with RUL:\")\n",
    "print(correlations.head(10))\n",
    "\n",
    "print(\"\\nBottom 10 sensors correlated with RUL:\")\n",
    "print(correlations.tail(10))"
   ]
  },
  {
   "cell_type": "code",
   "execution_count": null,
   "metadata": {},
   "outputs": [],
   "source": [
    "# Visualize correlation with RUL\n",
    "fig, ax = plt.subplots(figsize=(10, 8))\n",
    "\n",
    "correlations_sorted = correlations.abs().sort_values(ascending=True)\n",
    "correlations_sorted.plot(kind='barh', ax=ax, color='steelblue')\n",
    "\n",
    "ax.set_xlabel('Absolute Correlation with RUL')\n",
    "ax.set_title('Sensor Correlation with RUL')\n",
    "ax.grid(True, alpha=0.3, axis='x')\n",
    "\n",
    "plt.tight_layout()\n",
    "plt.show()"
   ]
  },
  {
   "cell_type": "code",
   "execution_count": null,
   "metadata": {},
   "outputs": [],
   "source": [
    "# Correlation heatmap (selected sensors)\n",
    "top_sensors = correlations.abs().sort_values(ascending=False).head(10).index.tolist()\n",
    "\n",
    "plt.figure(figsize=(10, 8))\n",
    "sns.heatmap(train_df[top_sensors].corr(), annot=True, cmap='coolwarm', center=0, \n",
    "            fmt='.2f', square=True, linewidths=1)\n",
    "plt.title('Correlation Heatmap - Top 10 Sensors')\n",
    "plt.tight_layout()\n",
    "plt.show()"
   ]
  },
  {
   "cell_type": "markdown",
   "metadata": {},
   "source": [
    "## 7. Operating Settings Analysis"
   ]
  },
  {
   "cell_type": "code",
   "execution_count": null,
   "metadata": {},
   "outputs": [],
   "source": [
    "# Operating settings distribution\n",
    "fig, axes = plt.subplots(1, 3, figsize=(15, 4))\n",
    "\n",
    "for idx, setting in enumerate(['setting_1', 'setting_2', 'setting_3']):\n",
    "    axes[idx].hist(train_df[setting], bins=30, edgecolor='black', alpha=0.7)\n",
    "    axes[idx].set_xlabel(setting)\n",
    "    axes[idx].set_ylabel('Frequency')\n",
    "    axes[idx].set_title(f'{setting} Distribution')\n",
    "    axes[idx].grid(True, alpha=0.3)\n",
    "\n",
    "plt.tight_layout()\n",
    "plt.show()"
   ]
  },
  {
   "cell_type": "markdown",
   "metadata": {},
   "source": [
    "## 8. Feature Engineering Preview"
   ]
  },
  {
   "cell_type": "code",
   "execution_count": null,
   "metadata": {},
   "outputs": [],
   "source": [
    "# Create feature engineer\n",
    "engineer = FeatureEngineer(config)\n",
    "\n",
    "# Create features for a subset\n",
    "sample_df = train_df[train_df['unit_id'].isin([1, 2, 3])].copy()\n",
    "sample_features = engineer.create_all_features(sample_df, sensor_cols)\n",
    "\n",
    "print(f\"\\nOriginal features: {sample_df.shape[1]}\")\n",
    "print(f\"Engineered features: {sample_features.shape[1]}\")\n",
    "print(f\"Added features: {sample_features.shape[1] - sample_df.shape[1]}\")"
   ]
  },
  {
   "cell_type": "code",
   "execution_count": null,
   "metadata": {},
   "outputs": [],
   "source": [
    "# Display new feature columns\n",
    "new_cols = [col for col in sample_features.columns if col not in sample_df.columns]\n",
    "print(f\"\\nSample of new features ({len(new_cols)} total):\")\n",
    "print(new_cols[:20])"
   ]
  },
  {
   "cell_type": "code",
   "execution_count": null,
   "metadata": {},
   "outputs": [],
   "source": [
    "# Compare original vs rolling features\n",
    "unit_1_features = sample_features[sample_features['unit_id'] == 1]\n",
    "\n",
    "fig, axes = plt.subplots(2, 1, figsize=(14, 8))\n",
    "\n",
    "sensor = 'sensor_2'\n",
    "\n",
    "axes[0].plot(unit_1_features['cycle'], unit_1_features[sensor], label='Original')\n",
    "axes[0].plot(unit_1_features['cycle'], unit_1_features[f'{sensor}_rolling_mean'], \n",
    "             label='Rolling Mean', linestyle='--')\n",
    "axes[0].set_xlabel('Cycle')\n",
    "axes[0].set_ylabel('Value')\n",
    "axes[0].set_title(f'{sensor} - Original vs Rolling Mean')\n",
    "axes[0].legend()\n",
    "axes[0].grid(True, alpha=0.3)\n",
    "\n",
    "axes[1].plot(unit_1_features['cycle'], unit_1_features[f'{sensor}_rolling_std'], \n",
    "             label='Rolling Std', color='orange')\n",
    "axes[1].set_xlabel('Cycle')\n",
    "axes[1].set_ylabel('Value')\n",
    "axes[1].set_title(f'{sensor} - Rolling Standard Deviation')\n",
    "axes[1].legend()\n",
    "axes[1].grid(True, alpha=0.3)\n",
    "\n",
    "plt.tight_layout()\n",
    "plt.show()"
   ]
  },
  {
   "cell_type": "markdown",
   "metadata": {},
   "source": [
    "## 9. Summary\n",
    "\n",
    "### Key Findings:\n",
    "1. **Dataset**: 100 training engines with varying operational cycles\n",
    "2. **Sensors**: 21 sensors with different correlation strengths to RUL\n",
    "3. **RUL Distribution**: Right-skewed with most engines having low RUL values\n",
    "4. **Feature Engineering**: Successfully created rolling statistics and degradation features\n",
    "5. **Next Steps**: \n",
    "   - Build baseline models (Random Forest, XGBoost)\n",
    "   - Train deep learning models (LSTM, GRU, CNN)\n",
    "   - Compare model performance"
   ]
  }
 ],
 "metadata": {
  "kernelspec": {
   "display_name": "Python 3",
   "language": "python",
   "name": "python3"
  },
  "language_info": {
   "codemirror_mode": {
    "name": "ipython",
    "version": 3
   },
   "file_extension": ".py",
   "mimetype": "text/x-python",
   "name": "python",
   "nbconvert_exporter": "python",
   "pygments_lexer": "ipython3",
   "version": "3.8.0"
  }
 },
 "nbformat": 4,
 "nbformat_minor": 4
}
